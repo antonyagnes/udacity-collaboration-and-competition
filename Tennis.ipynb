{
 "cells": [
  {
   "cell_type": "markdown",
   "id": "2399f7e0-61f2-4478-8198-14a05e7f0a9d",
   "metadata": {},
   "source": [
    "# Collaboration and Competition\n",
    "\n",
    "---\n",
    "\n",
    "In this notebook, you will learn how to use the Unity ML-Agents environment for the third project of the [Deep Reinforcement Learning Nanodegree](https://www.udacity.com/course/deep-reinforcement-learning-nanodegree--nd893) program.\n",
    "\n",
    "### 1. Start the Environment\n",
    "\n",
    "We begin by importing the necessary packages.  If the code cell below returns an error, please revisit the project instructions to double-check that you have installed [Unity ML-Agents](https://github.com/Unity-Technologies/ml-agents/blob/master/docs/Installation.md) and [NumPy](http://www.numpy.org/)."
   ]
  },
  {
   "cell_type": "code",
   "execution_count": 1,
   "id": "a913d486-fa9f-4f1a-913a-9c187dbfe1ad",
   "metadata": {
    "execution": {
     "iopub.execute_input": "2021-05-20T19:32:37.211299Z",
     "iopub.status.busy": "2021-05-20T19:32:37.211299Z",
     "iopub.status.idle": "2021-05-20T19:32:38.009158Z",
     "shell.execute_reply": "2021-05-20T19:32:38.008160Z",
     "shell.execute_reply.started": "2021-05-20T19:32:37.211299Z"
    },
    "tags": []
   },
   "outputs": [],
   "source": [
    "import torch\n",
    "import numpy as np\n",
    "from collections import deque\n",
    "import matplotlib.pyplot as plt\n",
    "from maddpg_agent import MADDPG \n",
    "from unityagents import UnityEnvironment\n",
    "# Hide Matplotlib deprecate warnings\n",
    "import warnings\n",
    "warnings.filterwarnings(\"ignore\")"
   ]
  },
  {
   "cell_type": "markdown",
   "id": "acd44606-1c25-4767-8f6e-6b0cccc45939",
   "metadata": {},
   "source": [
    "Next, we will start the environment!  **_Before running the code cell below_**, change the `file_name` parameter to match the location of the Unity environment that you downloaded.\n",
    "\n",
    "- **Mac**: `\"path/to/Tennis.app\"`\n",
    "- **Windows** (x86): `\"path/to/Tennis_Windows_x86/Tennis.exe\"`\n",
    "- **Windows** (x86_64): `\"path/to/Tennis_Windows_x86_64/Tennis.exe\"`\n",
    "- **Linux** (x86): `\"path/to/Tennis_Linux/Tennis.x86\"`\n",
    "- **Linux** (x86_64): `\"path/to/Tennis_Linux/Tennis.x86_64\"`\n",
    "- **Linux** (x86, headless): `\"path/to/Tennis_Linux_NoVis/Tennis.x86\"`\n",
    "- **Linux** (x86_64, headless): `\"path/to/Tennis_Linux_NoVis/Tennis.x86_64\"`\n",
    "\n",
    "For instance, if you are using a Mac, then you downloaded `Tennis.app`.  If this file is in the same folder as the notebook, then the line below should appear as follows:\n",
    "```\n",
    "env = UnityEnvironment(file_name=\"Tennis.app\")\n",
    "```"
   ]
  },
  {
   "cell_type": "code",
   "execution_count": 2,
   "id": "3c5dd583-3b2e-4379-9323-4713e26f1ed4",
   "metadata": {
    "execution": {
     "iopub.execute_input": "2021-05-20T19:32:38.204051Z",
     "iopub.status.busy": "2021-05-20T19:32:38.204051Z",
     "iopub.status.idle": "2021-05-20T19:32:41.945233Z",
     "shell.execute_reply": "2021-05-20T19:32:41.945233Z",
     "shell.execute_reply.started": "2021-05-20T19:32:38.204051Z"
    },
    "tags": []
   },
   "outputs": [
    {
     "name": "stderr",
     "output_type": "stream",
     "text": [
      "INFO:unityagents:\n",
      "'Academy' started successfully!\n",
      "Unity Academy name: Academy\n",
      "        Number of Brains: 1\n",
      "        Number of External Brains : 1\n",
      "        Lesson number : 0\n",
      "        Reset Parameters :\n",
      "\t\t\n",
      "Unity brain name: TennisBrain\n",
      "        Number of Visual Observations (per agent): 0\n",
      "        Vector Observation space type: continuous\n",
      "        Vector Observation space size (per agent): 8\n",
      "        Number of stacked Vector Observation: 3\n",
      "        Vector Action space type: continuous\n",
      "        Vector Action space size (per agent): 2\n",
      "        Vector Action descriptions: , \n"
     ]
    }
   ],
   "source": [
    "env = UnityEnvironment(file_name=\"Tennis_Windows_x86_64\\Tennis_Windows_x86_64\\Tennis.exe\")"
   ]
  },
  {
   "cell_type": "markdown",
   "id": "0e2692e5-05bc-4f30-a91d-73ef66b12ff3",
   "metadata": {},
   "source": [
    "Environments contain **_brains_** which are responsible for deciding the actions of their associated agents. Here we check for the first brain available, and set it as the default brain we will be controlling from Python."
   ]
  },
  {
   "cell_type": "code",
   "execution_count": 3,
   "id": "f04461f8-0db4-4e81-bdea-049e60967aad",
   "metadata": {
    "execution": {
     "iopub.execute_input": "2021-05-20T19:32:41.946209Z",
     "iopub.status.busy": "2021-05-20T19:32:41.946209Z",
     "iopub.status.idle": "2021-05-20T19:32:41.961356Z",
     "shell.execute_reply": "2021-05-20T19:32:41.961356Z",
     "shell.execute_reply.started": "2021-05-20T19:32:41.946209Z"
    }
   },
   "outputs": [],
   "source": [
    "# get the default brain\n",
    "brain_name = env.brain_names[0]\n",
    "brain = env.brains[brain_name]"
   ]
  },
  {
   "cell_type": "markdown",
   "id": "6fd24d16-a9c4-45d7-89aa-aa8a9783ae96",
   "metadata": {},
   "source": [
    "### 2. Examine the State and Action Spaces\n",
    "\n",
    "In this environment, two agents control rackets to bounce a ball over a net. If an agent hits the ball over the net, it receives a reward of +0.1.  If an agent lets a ball hit the ground or hits the ball out of bounds, it receives a reward of -0.01.  Thus, the goal of each agent is to keep the ball in play.\n",
    "\n",
    "The observation space consists of 8 variables corresponding to the position and velocity of the ball and racket. Two continuous actions are available, corresponding to movement toward (or away from) the net, and jumping. \n",
    "\n",
    "Run the code cell below to print some information about the environment."
   ]
  },
  {
   "cell_type": "code",
   "execution_count": 4,
   "id": "1a8944b2-2429-4a95-a688-5efbe5d2484d",
   "metadata": {
    "execution": {
     "iopub.execute_input": "2021-05-20T19:32:41.963354Z",
     "iopub.status.busy": "2021-05-20T19:32:41.963354Z",
     "iopub.status.idle": "2021-05-20T19:32:42.579557Z",
     "shell.execute_reply": "2021-05-20T19:32:42.579557Z",
     "shell.execute_reply.started": "2021-05-20T19:32:41.963354Z"
    }
   },
   "outputs": [
    {
     "name": "stdout",
     "output_type": "stream",
     "text": [
      "Number of agents: 2\n",
      "Size of each action: 2\n",
      "There are 2 agents. Each observes a state with length: 24\n",
      "The state for the first agent looks like: [ 0.          0.          0.          0.          0.          0.\n",
      "  0.          0.          0.          0.          0.          0.\n",
      "  0.          0.          0.          0.         -6.65278625 -1.5\n",
      " -0.          0.          6.83172083  6.         -0.          0.        ]\n"
     ]
    }
   ],
   "source": [
    "# reset the environment\n",
    "env_info = env.reset(train_mode=True)[brain_name]\n",
    "\n",
    "# number of agents \n",
    "num_agents = len(env_info.agents)\n",
    "print('Number of agents:', num_agents)\n",
    "\n",
    "# size of each action\n",
    "action_size = brain.vector_action_space_size\n",
    "print('Size of each action:', action_size)\n",
    "\n",
    "# examine the state space \n",
    "states = env_info.vector_observations\n",
    "state_size = states.shape[1]\n",
    "print('There are {} agents. Each observes a state with length: {}'.format(states.shape[0], state_size))\n",
    "print('The state for the first agent looks like:', states[0])"
   ]
  },
  {
   "cell_type": "markdown",
   "id": "8845d71c-a1aa-4f05-93a2-0fc9ea20fbab",
   "metadata": {},
   "source": [
    "### 3. Take Random Actions in the Environment\n",
    "\n",
    "In the next code cell, you will learn how to use the Python API to control the agents and receive feedback from the environment.\n",
    "\n",
    "Once this cell is executed, you will watch the agents' performance, if they select actions at random with each time step.  A window should pop up that allows you to observe the agents.\n",
    "\n",
    "Of course, as part of the project, you'll have to change the code so that the agents are able to use their experiences to gradually choose better actions when interacting with the environment!"
   ]
  },
  {
   "cell_type": "code",
   "execution_count": 5,
   "id": "19badb5e-32ba-457b-a135-aead125baf1b",
   "metadata": {
    "execution": {
     "iopub.execute_input": "2021-05-20T19:32:42.580532Z",
     "iopub.status.busy": "2021-05-20T19:32:42.580532Z",
     "iopub.status.idle": "2021-05-20T19:32:48.150371Z",
     "shell.execute_reply": "2021-05-20T19:32:48.148997Z",
     "shell.execute_reply.started": "2021-05-20T19:32:42.580532Z"
    }
   },
   "outputs": [
    {
     "name": "stdout",
     "output_type": "stream",
     "text": [
      "Score (max over agents) from episode 1: 0.0\n",
      "Score (max over agents) from episode 2: 0.0\n",
      "Score (max over agents) from episode 3: 0.0\n",
      "Score (max over agents) from episode 4: 0.0\n",
      "Score (max over agents) from episode 5: 0.0\n"
     ]
    }
   ],
   "source": [
    "for i in range(1, 6):                                      # play game for 5 episodes\n",
    "    env_info = env.reset(train_mode=False)[brain_name]     # reset the environment    \n",
    "    states = env_info.vector_observations                  # get the current state (for each agent)\n",
    "    scores = np.zeros(num_agents)                          # initialize the score (for each agent)\n",
    "    while True:\n",
    "        actions = np.random.randn(num_agents, action_size) # select an action (for each agent)\n",
    "        actions = np.clip(actions, -1, 1)                  # all actions between -1 and 1\n",
    "        env_info = env.step(actions)[brain_name]           # send all actions to tne environment\n",
    "        next_states = env_info.vector_observations         # get next state (for each agent)\n",
    "        rewards = env_info.rewards                         # get reward (for each agent)\n",
    "        dones = env_info.local_done                        # see if episode finished\n",
    "        scores += env_info.rewards                         # update the score (for each agent)\n",
    "        states = next_states                               # roll over states to next time step\n",
    "        if np.any(dones):                                  # exit loop if episode finished\n",
    "            break\n",
    "    print('Score (max over agents) from episode {}: {}'.format(i, np.max(scores)))"
   ]
  },
  {
   "cell_type": "markdown",
   "id": "2c42a256-4380-4a86-a608-4ba096558446",
   "metadata": {},
   "source": [
    "### 4. It's Your Turn!\n",
    "\n",
    "Now it's your turn to train your own agent to solve the environment!  When training the environment, set `train_mode=True`, so that the line for resetting the environment looks like the following:\n",
    "```python\n",
    "env_info = env.reset(train_mode=True)[brain_name]\n",
    "```"
   ]
  },
  {
   "cell_type": "code",
   "execution_count": 6,
   "id": "67d7dfbb-41f6-4783-bcf5-c30560620b85",
   "metadata": {
    "execution": {
     "iopub.execute_input": "2021-05-20T19:32:48.151385Z",
     "iopub.status.busy": "2021-05-20T19:32:48.151385Z",
     "iopub.status.idle": "2021-05-20T19:32:48.194493Z",
     "shell.execute_reply": "2021-05-20T19:32:48.194493Z",
     "shell.execute_reply.started": "2021-05-20T19:32:48.151385Z"
    },
    "tags": []
   },
   "outputs": [],
   "source": [
    "def train(n_episodes=2000, max_t=1000, deque_size=100):\n",
    "    scores = []\n",
    "    scores_deque = deque(maxlen=deque_size)\n",
    "    scores_avg = []\n",
    "    count = 0\n",
    "\n",
    "    for i_episode in range(1, n_episodes+1):\n",
    "        rewards = []\n",
    "        env_info = env.reset(train_mode=False)[brain_name]    \n",
    "        state = env_info.vector_observations                  \n",
    "\n",
    "        for t in range(max_t):\n",
    "            action = agent.act(state)\n",
    "            env_info = env.step(action)[brain_name]\n",
    "            next_state = env_info.vector_observations\n",
    "            rewards_vec = env_info.rewards\n",
    "            done = env_info.local_done\n",
    "            # update and train the agent \n",
    "            agent.step(state, action, rewards_vec, next_state, done)\n",
    "            state = next_state\n",
    "            rewards.append(rewards_vec)\n",
    "            if any(done):\n",
    "                break\n",
    "\n",
    "        # max rewards recived by the agents\n",
    "        episode_reward = np.max(np.sum(np.array(rewards),axis=0))\n",
    "\n",
    "        scores.append(episode_reward)             # current score\n",
    "        scores_deque.append(episode_reward)       \n",
    "        current_avg_score = np.mean(scores_deque)\n",
    "        scores_avg.append(current_avg_score)      # average of last 100 scores\n",
    "\n",
    "        print('\\rEpisode {}\\tAverage Score: {}'.format(\n",
    "            i_episode, current_avg_score),end=\"\")\n",
    "\n",
    "        if i_episode % 200 == 0:\n",
    "            print('\\rEpisode {}\\tAverage Score: {}'.format(i_episode, current_avg_score))\n",
    "            agent.save_agents()\n",
    "\n",
    "        # break and report success if environment is solved\n",
    "        if np.mean(scores_deque)>=.5:\n",
    "            count += 1\n",
    "            if count == 1:\n",
    "                print('\\n Solved in {} episodes with an average score of {}'.format\n",
    "                          (i_episode, np.mean(scores_deque)))\n",
    "            if count == 100:\n",
    "                break\n",
    "            agent.save_agents()\n",
    "            \n",
    "    return scores, scores_avg"
   ]
  },
  {
   "cell_type": "code",
   "execution_count": 7,
   "id": "75a4765b-83c9-451e-981d-17bf158f3187",
   "metadata": {
    "execution": {
     "iopub.execute_input": "2021-05-20T19:32:48.195385Z",
     "iopub.status.busy": "2021-05-20T19:32:48.195385Z",
     "iopub.status.idle": "2021-05-20T19:32:48.226390Z",
     "shell.execute_reply": "2021-05-20T19:32:48.225586Z",
     "shell.execute_reply.started": "2021-05-20T19:32:48.195385Z"
    },
    "tags": []
   },
   "outputs": [],
   "source": [
    "agent = MADDPG()"
   ]
  },
  {
   "cell_type": "code",
   "execution_count": 8,
   "id": "3cddcc75-3fa8-4f5a-ae3d-e4fdfde994a1",
   "metadata": {
    "execution": {
     "iopub.execute_input": "2021-05-20T19:32:48.227387Z",
     "iopub.status.busy": "2021-05-20T19:32:48.226390Z",
     "iopub.status.idle": "2021-05-21T01:14:01.309283Z",
     "shell.execute_reply": "2021-05-21T01:14:01.308279Z",
     "shell.execute_reply.started": "2021-05-20T19:32:48.227387Z"
    },
    "tags": []
   },
   "outputs": [
    {
     "name": "stdout",
     "output_type": "stream",
     "text": [
      "Episode 200\tAverage Score: 0.010000000149011612\n",
      "Episode 400\tAverage Score: 0.0126000002026557926\n",
      "Episode 600\tAverage Score: 0.010800000168383122\n",
      "Episode 800\tAverage Score: 0.068000001050531865\n",
      "Episode 1000\tAverage Score: 0.08230000136420135\n",
      "Episode 1200\tAverage Score: 0.08410000139847398\n",
      "Episode 1400\tAverage Score: 0.11610000176355242\n",
      "Episode 1600\tAverage Score: 0.19370000289753078\n",
      "Episode 1707\tAverage Score: 0.50370000751689086\n",
      " Solved in 1707 episodes with an average score of 0.5037000075168908\n",
      "Episode 1800\tAverage Score: 1.00670001501217486\n",
      "Episode 1807\tAverage Score: 1.0817000161297619"
     ]
    }
   ],
   "source": [
    "scores, scores_avg = train(n_episodes=2500, max_t=1000, deque_size=100)"
   ]
  },
  {
   "cell_type": "markdown",
   "id": "33c83aae-e560-4e1e-87c7-bf881f1c0d33",
   "metadata": {},
   "source": [
    "Plot of rewards"
   ]
  },
  {
   "cell_type": "code",
   "execution_count": 9,
   "id": "ac8d0523-cf31-4980-8d20-3b5957b266e2",
   "metadata": {
    "execution": {
     "iopub.execute_input": "2021-05-21T01:14:01.310282Z",
     "iopub.status.busy": "2021-05-21T01:14:01.310282Z",
     "iopub.status.idle": "2021-05-21T01:14:01.433309Z",
     "shell.execute_reply": "2021-05-21T01:14:01.433309Z",
     "shell.execute_reply.started": "2021-05-21T01:14:01.310282Z"
    },
    "tags": []
   },
   "outputs": [
    {
     "data": {
      "image/png": "[encoded data removed]",
      "text/plain": [
       "<Figure size 432x288 with 1 Axes>"
      ]
     },
     "metadata": {
      "needs_background": "light"
     },
     "output_type": "display_data"
    }
   ],
   "source": [
    "fig = plt.figure()\n",
    "ax = fig.add_subplot(111)\n",
    "plt.plot(np.arange(1, len(scores)+1), scores)\n",
    "plt.ylabel('Score')\n",
    "plt.xlabel('Episode #')\n",
    "plt.title('Plot of Rewards')\n",
    "plt.show()"
   ]
  },
  {
   "cell_type": "markdown",
   "id": "29b31911-6b41-4de6-b63f-f9a4efa9ce69",
   "metadata": {},
   "source": [
    "Moving average"
   ]
  },
  {
   "cell_type": "code",
   "execution_count": 10,
   "id": "fffce474-8c45-468b-9b40-3a489358b705",
   "metadata": {
    "execution": {
     "iopub.execute_input": "2021-05-21T01:14:01.434309Z",
     "iopub.status.busy": "2021-05-21T01:14:01.434309Z",
     "iopub.status.idle": "2021-05-21T01:14:01.529311Z",
     "shell.execute_reply": "2021-05-21T01:14:01.529311Z",
     "shell.execute_reply.started": "2021-05-21T01:14:01.434309Z"
    },
    "tags": []
   },
   "outputs": [
    {
     "data": {
      "image/png": "[encoded data removed]",
      "text/plain": [
       "<Figure size 432x288 with 1 Axes>"
      ]
     },
     "metadata": {
      "needs_background": "light"
     },
     "output_type": "display_data"
    }
   ],
   "source": [
    "fig = plt.figure()\n",
    "ax = fig.add_subplot(111)\n",
    "plt.plot(np.arange(1, len(scores)+1), scores_avg)\n",
    "plt.ylabel('Score')\n",
    "plt.xlabel('Episode #')\n",
    "plt.title('Average score')\n",
    "plt.show()"
   ]
  },
  {
   "cell_type": "markdown",
   "id": "a0ceaee8-b47d-4ac0-924f-6b34c6e6b08c",
   "metadata": {},
   "source": [
    "When finished, you can close the environment."
   ]
  },
  {
   "cell_type": "code",
   "execution_count": null,
   "id": "7e3387c3-9171-43a5-b283-854e63b4c1a0",
   "metadata": {},
   "outputs": [],
   "source": [
    "# env.close()"
   ]
  },
  {
   "cell_type": "code",
   "execution_count": null,
   "id": "dc3cb5eb-edb5-40f3-80cd-9422934f9e6d",
   "metadata": {},
   "outputs": [],
   "source": []
  }
 ],
 "metadata": {
  "kernelspec": {
   "display_name": "Python 3",
   "language": "python",
   "name": "python3"
  },
  "language_info": {
   "codemirror_mode": {
    "name": "ipython",
    "version": 3
   },
   "file_extension": ".py",
   "mimetype": "text/x-python",
   "name": "python",
   "nbconvert_exporter": "python",
   "pygments_lexer": "ipython3",
   "version": "3.6.13"
  }
 },
 "nbformat": 4,
 "nbformat_minor": 5
}
